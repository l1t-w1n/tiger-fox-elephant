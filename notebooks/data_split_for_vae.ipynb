{
 "cells": [
  {
   "cell_type": "code",
   "execution_count": 1,
   "metadata": {},
   "outputs": [],
   "source": [
    "import os\n",
    "import random\n",
    "import shutil\n",
    "from pathlib import Path \n",
    "import sys\n",
    "from pathlib import Path\n",
    "project_root = Path.cwd().parent\n",
    "sys.path.append(str(project_root))\n",
    "data_dir = project_root / \"data/resized_data/\"\n",
    "target_dir = project_root / \"data/vae/\"\n"
   ]
  },
  {
   "cell_type": "code",
   "execution_count": 2,
   "metadata": {},
   "outputs": [],
   "source": [
    "def split_dataset(source_dir, output_dir, train_pct=0.7, val_pct=0.15, test_pct=0.15, seed=42):\n",
    "\n",
    "    random.seed(seed)\n",
    "    \n",
    "    # Convert directories to Path objects\n",
    "    source_dir = Path(source_dir)\n",
    "    output_dir = Path(output_dir)\n",
    "    \n",
    "    # Check that the percentages add up to 1.0\n",
    "    if abs(train_pct + val_pct + test_pct - 1.0) > 1e-6:\n",
    "        raise ValueError(\"The sum of train_pct, val_pct, and test_pct must be 1.0\")\n",
    "    \n",
    "    # Define the splits (using \"val\" instead of \"validation\" per your desired structure)\n",
    "    splits = [\"train\", \"val\", \"test\"]\n",
    "    \n",
    "    # Loop over each class folder in the source directory\n",
    "    for class_dir in source_dir.iterdir():\n",
    "        if class_dir.is_dir():\n",
    "            class_name = class_dir.name\n",
    "            # Find all image files (modify the extensions list if needed)\n",
    "            images = list(class_dir.glob(\"*.*\"))\n",
    "            random.shuffle(images)\n",
    "            total = len(images)\n",
    "            n_train = int(total * train_pct)\n",
    "            n_val = int(total * val_pct)\n",
    "            # The test count is the remainder.\n",
    "            n_test = total - n_train - n_val\n",
    "\n",
    "            # Split the images\n",
    "            train_imgs = images[:n_train]\n",
    "            val_imgs = images[n_train:n_train+n_val]\n",
    "            test_imgs = images[n_train+n_val:]\n",
    "            \n",
    "            print(f\"Class '{class_name}': total={total}, train={len(train_imgs)}, val={len(val_imgs)}, test={len(test_imgs)}\")\n",
    "            \n",
    "            # For each split, create a destination folder under the class folder and copy the files.\n",
    "            for split, imgs in zip(splits, [train_imgs, val_imgs, test_imgs]):\n",
    "                # New structure: output_dir / class_name / split\n",
    "                split_class_dir = output_dir / class_name / split\n",
    "                split_class_dir.mkdir(parents=True, exist_ok=True)\n",
    "                for img_path in imgs:\n",
    "                    shutil.copy2(img_path, split_class_dir / img_path.name)"
   ]
  },
  {
   "cell_type": "code",
   "execution_count": 3,
   "metadata": {},
   "outputs": [
    {
     "name": "stdout",
     "output_type": "stream",
     "text": [
      "Class 'zebra': total=376, train=263, val=75, test=38\n",
      "Class 'cat': total=2852, train=1996, val=570, test=286\n",
      "Class 'buffalo': total=376, train=263, val=75, test=38\n",
      "Class 'rabbit': total=938, train=656, val=187, test=95\n",
      "Class 'sheep': total=1820, train=1274, val=364, test=182\n",
      "Class 'elephant': total=12037, train=8425, val=2407, test=1205\n",
      "Class 'mouse': total=570, train=399, val=114, test=57\n",
      "Class 'cow': total=1866, train=1306, val=373, test=187\n",
      "Class 'horse': total=2623, train=1836, val=524, test=263\n",
      "Class 'spider': total=4821, train=3374, val=964, test=483\n",
      "Class 'rhino': total=376, train=263, val=75, test=38\n",
      "Class 'squirrel': total=1862, train=1303, val=372, test=187\n",
      "Class 'fox': total=6499, train=4549, val=1299, test=651\n",
      "Class 'tiger': total=6976, train=4883, val=1395, test=698\n",
      "Class 'dog': total=4967, train=3476, val=993, test=498\n",
      "Class 'hen': total=3098, train=2168, val=619, test=311\n",
      "Class 'butterfly': total=2112, train=1478, val=422, test=212\n",
      "Class 'bird': total=1528, train=1069, val=305, test=154\n",
      "Class 'badger': total=1556, train=1089, val=311, test=156\n"
     ]
    }
   ],
   "source": [
    "split_dataset(data_dir, target_dir, 0.7, 0.2, 0.1)"
   ]
  }
 ],
 "metadata": {
  "kernelspec": {
   "display_name": "venv",
   "language": "python",
   "name": "python3"
  },
  "language_info": {
   "codemirror_mode": {
    "name": "ipython",
    "version": 3
   },
   "file_extension": ".py",
   "mimetype": "text/x-python",
   "name": "python",
   "nbconvert_exporter": "python",
   "pygments_lexer": "ipython3",
   "version": "3.12.6"
  }
 },
 "nbformat": 4,
 "nbformat_minor": 2
}
